{
 "cells": [
  {
   "cell_type": "markdown",
   "metadata": {},
   "source": [
    "# Module9_1: Variant Calling"
   ]
  },
  {
   "cell_type": "markdown",
   "metadata": {},
   "source": [
    "Grab an interactive node for the class \n",
    "\n",
    "`qsub -I -l nodes=1:ppn=8 -l walltime=4:00:00 -q hotel`\n",
    "\n",
    "**TIP** if you start overwriting your own line, use:\n",
    "\n",
    "`eval $(resize)`"
   ]
  },
  {
   "cell_type": "markdown",
   "metadata": {},
   "source": [
    "---\n",
    "### Prerequisites\n",
    "\n",
    "* access to UNIX terminal (in case the local desktop/laptop is not large enough)\n",
    "* knowledge of screen command. Attach, detach a screen\n",
    "* knowledge of basic bash piping and commands such as \n",
    "ls, ls -l, cd, mkdir, sort, uniq, cut, grep, more, less, head, tail\n",
    "* knowledge of one liners like sed 's/x/y/g' or awk '{$==x}'\n",
    "---"
   ]
  },
  {
   "cell_type": "markdown",
   "metadata": {},
   "source": [
    "### Create a results folder in your scratch directory and move to this directory\n",
    "```\n",
    "mkdir -p ~/scratch/Module_9/results\n",
    "cd ~/scratch/Module_9/results\n",
    "```"
   ]
  },
  {
   "cell_type": "markdown",
   "metadata": {},
   "source": [
    "---\n",
    "## BAM and coverage\n",
    "```\n",
    "samtools flagstat ~/biom262_2019/Module_9/materials/CPTRES4.chr21.bam > CPTRES4.chr21.stat\n",
    "```\n",
    "\n",
    "#### Sort and index the bam file\n",
    "```\n",
    "samtools sort -m 2G -O bam -T tmp ~/biom262_2019/Module_9/materials/CPTRES4.chr21.bam > CPTRES4.chr21.sorted.bam\n",
    "\n",
    "samtools index CPTRES4.chr21.sorted.bam\n",
    "```\n",
    "\n",
    "#### Coverage via samtools \n",
    "\n",
    "```\n",
    "samtools depth -b ~/biom262_2019/Module_9/materials/Sureselect.chr21.bed -a CPTRES4.chr21.sorted.bam > CPTRES4.chr21.cov\n",
    "\n",
    "awk '{sum+=$3} END {print sum/NR}' CPTRES4.chr21.cov\n",
    "```\n",
    "\n",
    "#### Coverage via picard CollectHSMetrics\n",
    "\n",
    "```\n",
    "java -Xmx750m -Xmx1000m  -XX:ParallelGCThreads=1 -jar ~/software/picard.jar CollectHsMetrics \\\n",
    "BAIT_INTERVALS=~/biom262_2019/Module_9/materials/Sureselect.chr21.2.interval_list TARGET_INTERVALS=~/biom262_2019/Module_9/materials/Sureselect.chr21.2.interval_list \\\n",
    "INPUT=CPTRES4.chr21.sorted.bam OUTPUT=CPTRES4.chr21.hsmetrics.txt\n",
    "```\n",
    "\n",
    "#### Coverage over a specific gene \n",
    "\n",
    "\n",
    "Option 1:\n",
    "```\n",
    "bedtools coverage -a ~/biom262_2019/Module_9/resources/CGC.exons.bed -b CPTRES4.chr21.sorted.bam -hist | grep 'RUNX1' | awk '$5>20' | awk '{sum+=$6} END {print sum}'\n",
    "```\n",
    "\n",
    "Option 2:\n",
    "```\n",
    "grep 'RUNX1' ~/biom262_2019/Module_9/resources/CGC.exons.bed | samtools depth -b - -a CPTRES4.chr21.sorted.bam | awk '$3>20' | wc -l \n",
    "```"
   ]
  }
 ],
 "metadata": {
  "kernelspec": {
   "display_name": "Python 3",
   "language": "python",
   "name": "python3"
  },
  "language_info": {
   "codemirror_mode": {
    "name": "ipython",
    "version": 3
   },
   "file_extension": ".py",
   "mimetype": "text/x-python",
   "name": "python",
   "nbconvert_exporter": "python",
   "pygments_lexer": "ipython3",
   "version": "3.6.7"
  }
 },
 "nbformat": 4,
 "nbformat_minor": 2
}
