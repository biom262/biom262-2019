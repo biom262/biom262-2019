{
 "cells": [
  {
   "cell_type": "markdown",
   "metadata": {},
   "source": [
    "# Module 9 Installations - Variant Calling\n",
    "### For our last module, variant calling, we will need the following packages:\n",
    "\n",
    "---\n",
    "## On the cluster\n",
    "---\n",
    "### New packages:\n",
    "```\n",
    "conda install -c bioconda bcftools cnvkit varscan vcflib\n",
    "```\n",
    "\n",
    "picard can be installed with conda but in order to control java memory options we will install this way:\n",
    "\n",
    "```\n",
    "cd ~/software\n",
    "\n",
    "wget https://github.com/broadinstitute/picard/releases/download/2.18.27/picard.jar\n",
    "```\n",
    "\n",
    "### Previously installed:\n",
    "* samtools\n",
    "* bedtools"
   ]
  },
  {
   "cell_type": "markdown",
   "metadata": {},
   "source": [
    "---\n",
    "## Locally on your computer\n",
    "---\n",
    "\n",
    "### Previously installed:\n",
    "* IGV\n",
    "* RStudio\n",
    "\n",
    "**R packages:**\n",
    "* ggplot2\n",
    "* dplyr\n",
    "* plyr\n",
    "* reshape2"
   ]
  }
 ],
 "metadata": {
  "kernelspec": {
   "display_name": "Python 3",
   "language": "python",
   "name": "python3"
  },
  "language_info": {
   "codemirror_mode": {
    "name": "ipython",
    "version": 3
   },
   "file_extension": ".py",
   "mimetype": "text/x-python",
   "name": "python",
   "nbconvert_exporter": "python",
   "pygments_lexer": "ipython3",
   "version": "3.6.7"
  }
 },
 "nbformat": 4,
 "nbformat_minor": 2
}
