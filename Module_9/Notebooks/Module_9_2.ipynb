{
 "cells": [
  {
   "cell_type": "markdown",
   "metadata": {},
   "source": [
    "# Module9_2: Variant Calling"
   ]
  },
  {
   "cell_type": "markdown",
   "metadata": {},
   "source": [
    "Grab an interactive node for the class \n",
    "\n",
    "`qsub -I -l nodes=1:ppn=8 -l walltime=3:00:00 -q hotel`\n",
    "\n",
    "**TIP** if you start overwriting your own line, use:\n",
    "\n",
    "`eval $(resize)`"
   ]
  },
  {
   "cell_type": "markdown",
   "metadata": {},
   "source": [
    "## Create a results day 2 folder in your scratch directory and move to this directory\n",
    "```\n",
    "mkdir -p ~/scratch/Module_9/results_day2\n",
    "cd ~/scratch/Module_9/results_day2\n",
    "```"
   ]
  },
  {
   "cell_type": "markdown",
   "metadata": {},
   "source": [
    "---\n",
    "## Generate pileup (without ref)\n",
    "```\n",
    "samtools mpileup -Q 0 ~/biom262_2019/Module_9/materials/CPTRES7.realigned.chr21.bam > CPTRES7.chr21.pileup\n",
    "\n",
    "samtools mpileup -Q 0 ~/biom262_2019/Module_9/materials/CPTRES4.realigned.chr21.bam > CPTRES4.chr21.pileup\n",
    "```"
   ]
  },
  {
   "cell_type": "markdown",
   "metadata": {},
   "source": [
    "---\n",
    "\n",
    "## Call variants with varscan (need interactive node for RAM needs)\n",
    "```\n",
    "varscan somatic CPTRES4.chr21.pileup CPTRES7.chr21.pileup CPTRES7vs4 --output-vcf\n",
    "```"
   ]
  },
  {
   "cell_type": "markdown",
   "metadata": {},
   "source": [
    "---\n",
    "## Calling CNV\n",
    "\n",
    "CNV calling with CNVkit batch\n",
    "\n",
    "Currently non-functional\n",
    "\n",
    "```\n",
    "cnvkit.py batch \\\n",
    "~/biom262_2019/Module_9/materials/CPTRES7.chr21.bam \\\n",
    "--normal ~/biom262_2019/Module_9/materials/CPTRES4.chr21.bam \\\n",
    "--targets ~/biom262_2019/Module_9/materials/Sureselect.chr21.bed \\\n",
    "--annotate ~/biom262_2019/Module_9/resources/refFlat.txt \\\n",
    "--fasta ~/biom262_2019/Module_9/resources/chr21.fa.gz \\\n",
    "--output-reference myref.cnn --output-dir .  \\\n",
    "--count-reads --diagram --scatter\n",
    "```"
   ]
  },
  {
   "cell_type": "markdown",
   "metadata": {},
   "source": [
    "---\n",
    "## VCF file manipulation\n",
    "\n",
    "Let's merge the snp and indel files \n",
    "\n",
    "zip (bgzip) and index the vcf file\n",
    "\n",
    "```\n",
    "for file in CPTRES7vs4*vcf; do bgzip $file; tabix -p vcf $file.gz; done\n",
    "```\n",
    "\n",
    "Concatenate the snp and indel files\n",
    "```\n",
    "bcftools concat -O z -o CPTRES7vs4.vcf.gz CPTRES7vs4.snp.vcf.gz CPTRES7vs4.indel.vcf.gz\n",
    "```\n",
    "\n",
    "Flag variants with coverage less than 20\n",
    "```\n",
    "bcftools filter -s \"DP20\" -O z -e 'INFO/DP<20' CPTRES7vs4.vcf.gz > CPTRES7vs4.filter.vcf.gz\n",
    "```\n",
    "\n",
    "keep PASS and germline\n",
    "```\n",
    "bcftools filter -O z -i 'FILTER==\"PASS\" & INFO/SS==\"1\"' CPTRES7vs4.filter.vcf.gz > CPTRES7vs4.germ.vcf.gz\n",
    "```\n",
    "\n",
    "What is the transition to transversion ratio?\n",
    "```\n",
    "bcftools stats CPTRES7vs4.germ.vcf.gz\n",
    "```"
   ]
  },
  {
   "cell_type": "markdown",
   "metadata": {},
   "source": [
    "---\n",
    "## Variant Annotation\n",
    "\n",
    "For this part we will use the results of cphort germien sequencing (GATK HapotypeCaller). Note: genotype have been shuffled to preserve privacy. Note2: GATK was run on individual file, not cohort, hence no use of gVCF : missing are assumed homozygous reference. \n",
    "\n",
    "Breakmulti allele sites\n",
    "\n",
    "```\n",
    "vcfbreakmulti ~/biom262_2019/Module_9/materials/GMTS_all.shuf.vcf.gz | bgzip -c >  GMTS_all.shuf.BM.vcf.gz\n",
    "\n",
    "tabix -p vcf GMTS_all.shuf.BM.vcf.gz\n",
    "```\n",
    "\n",
    "run Table annovar on the GMTS variant file. \n",
    "```\n",
    "~/biom262_2019/Module_9/resources/annovar/table_annovar.pl --vcfinput --nastring . --protocol refGene --operation g --buildver hg19 --outfile GMTSann GMTS_all.shuf.BM.vcf.gz ~/biom262_2019/Module_9/resources/annovar/humandb/\n",
    "```\n",
    "\n",
    "export genotypes to TSV file. One sample.variant per row. \n",
    "```\n",
    "vcf2tsv -g GMTS_all.shuf.BM.vcf.gz > GMTS.geno.txt\n",
    "```"
   ]
  },
  {
   "cell_type": "code",
   "execution_count": null,
   "metadata": {},
   "outputs": [],
   "source": []
  }
 ],
 "metadata": {
  "kernelspec": {
   "display_name": "Python 3",
   "language": "python",
   "name": "python3"
  },
  "language_info": {
   "codemirror_mode": {
    "name": "ipython",
    "version": 3
   },
   "file_extension": ".py",
   "mimetype": "text/x-python",
   "name": "python",
   "nbconvert_exporter": "python",
   "pygments_lexer": "ipython3",
   "version": "3.6.7"
  }
 },
 "nbformat": 4,
 "nbformat_minor": 2
}
