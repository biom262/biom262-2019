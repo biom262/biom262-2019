{
 "cells": [
  {
   "cell_type": "markdown",
   "metadata": {},
   "source": [
    "# Module9_1: Variant Calling"
   ]
  },
  {
   "cell_type": "markdown",
   "metadata": {},
   "source": [
    "Grab an interactive node for the class \n",
    "\n",
    "`qsub -I -l nodes=1:ppn=8 -l walltime=3:00:00 -q hotel`\n",
    "\n",
    "**TIP** if you start overwriting your own line, use:\n",
    "\n",
    "`eval $(resize)`"
   ]
  },
  {
   "cell_type": "markdown",
   "metadata": {},
   "source": [
    "## Create a results day 2 folder in your scratch directory and move to this directory\n",
    "```\n",
    "mkdir -p ~/scratch/Module_9/results_day2\n",
    "cd ~/scratch/Module_9/results_day2\n",
    "```"
   ]
  },
  {
   "cell_type": "markdown",
   "metadata": {},
   "source": [
    "---\n",
    "## Generate pileup (without ref)\n",
    "```\n",
    "samtools mpileup -Q 0 ~/biom262_2019/Module_9/materials/CPTRES7.realigned.chr21.bam > CPTRES7.chr21.pileup\n",
    "\n",
    "samtools mpileup -Q 0 ~/biom262_2019/Module_9/materials/CPTRES4.realigned.chr21.bam > CPTRES4.chr21.pileup\n",
    "```"
   ]
  },
  {
   "cell_type": "markdown",
   "metadata": {},
   "source": [
    "---\n",
    "\n",
    "## Call variants with varscan (need interactive node for RAM needs)\n",
    "```\n",
    "varscan somatic CPTRES4.chr21.pileup CPTRES7.chr21.pileup CPTRES7vs4 --output-vcf\n",
    "```"
   ]
  },
  {
   "cell_type": "markdown",
   "metadata": {},
   "source": [
    "---\n",
    "## Calling CNV\n",
    "\n",
    "CNV calling with CNVkit batch\n",
    "\n",
    "Currently non-functional\n",
    "\n",
    "```\n",
    "cnvkit.py batch \\\n",
    "~/biom262_2019/Module_9/materials/CPTRES7.chr21.bam \\\n",
    "--normal ~/biom262_2019/Module_9/materials/CPTRES4.chr21.bam \\\n",
    "--targets ~/biom262_2019/Module_9/materials/Sureselect.chr21.bed \\\n",
    "--annotate ~/biom262_2019/Module_9/resources/refFlat.txt \\\n",
    "--fasta ~/biom262_2019/Module_9/resources/chr21.fa.gz \\\n",
    "--output-reference myref.cnn --output-dir .  \\\n",
    "--count-reads --diagram --scatter\n",
    "```"
   ]
  }
 ],
 "metadata": {
  "kernelspec": {
   "display_name": "Python 3",
   "language": "python",
   "name": "python3"
  },
  "language_info": {
   "codemirror_mode": {
    "name": "ipython",
    "version": 3
   },
   "file_extension": ".py",
   "mimetype": "text/x-python",
   "name": "python",
   "nbconvert_exporter": "python",
   "pygments_lexer": "ipython3",
   "version": "3.6.7"
  }
 },
 "nbformat": 4,
 "nbformat_minor": 2
}
