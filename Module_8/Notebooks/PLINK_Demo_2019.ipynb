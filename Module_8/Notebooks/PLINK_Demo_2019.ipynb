{
 "cells": [
  {
   "cell_type": "markdown",
   "metadata": {},
   "source": [
    "### PLINK: \n",
    "\n",
    "##### extract random SNPs:\n",
    "`plink --noweb --bfile ~/biom262_2019/Module_8/Data/hapmap3 --thin 0.00001 --recode --out hapmap3_thin`\n",
    "\n",
    "###### inspect files\n",
    "\n",
    "###### extract SNPs on chr 21 and recode  \n",
    "\n",
    "`plink --noweb --bfile ~/biom262_2019/Module_8/Data/hapmap3 --chr 21 --recode --out hapmap3_chr21`\n",
    "\n",
    "###### prune for LD  \n",
    "  \n",
    "`plink --noweb --file hapmap3_thin --indep-pairwise 50 5 0.1`  \n",
    "`plink --noweb --file hapmap3_thin --extract plink.prune.in --make-bed --out hapmap3_thin_pruned`  \n",
    "`plink --noweb --file hapmap3_chr21 --indep-pairwise 50 5 0.1`  \n",
    "`plink --noweb --file hapmap3_chr21 --extract plink.prune.in --make-bed --out hapmap3_chr21_pruned`  \n",
    "`plink --noweb --bfile ~/biom262_2019/Module_8/Data/hapmap3 --indep-pairwise 50 5 0.1`  \n",
    "`plink --noweb --bfile ~/biom262_2019/Module_8/Data/hapmap3 --extract plink.prune.in --make-bed --out hapmap3_pruned`  \n",
    "\n",
    "###### why prune?\n",
    "\n",
    "###### create IBS matrix\n",
    "\n",
    "`plink --noweb --bfile hapmap3_thin_pruned --distance --distance-matrix --out hapmap3_thin_pruned`\n",
    "\n",
    "`plink --noweb --bfile hapmap3_chr21_pruned --distance --distance-matrix --out hapmap3_chr21_pruned`  \n",
    "\n",
    "`plink --noweb --bfile hapmap3_pruned --distance --distance-matrix --out hapmap3_pruned`  \n"
   ]
  },
  {
   "cell_type": "code",
   "execution_count": null,
   "metadata": {},
   "outputs": [],
   "source": [
    "#start R\n",
    "thin=read.table(\"hapmap3_thin_pruned.mdist\",F)\n",
    "chr21=read.table(\"hapmap3_chr21_pruned.mdist\",F)\n",
    "all=read.table(\"hapmap3_pruned.mdist\",F)"
   ]
  },
  {
   "cell_type": "code",
   "execution_count": null,
   "metadata": {},
   "outputs": [],
   "source": [
    "#multidimensional scaling\n",
    "thin_coord=cmdscale(thin,2)\n",
    "chr21_coord=cmdscale(chr21,2)\n",
    "all_coord=cmdscale(all,2)"
   ]
  },
  {
   "cell_type": "code",
   "execution_count": null,
   "metadata": {},
   "outputs": [],
   "source": [
    "#plot\n",
    "plot(thin_coord[1:165,],xlim=c(-0.2,0.2),ylim=c(-0.2,0.2),col=\"red\")\n",
    "points(thin_coord[166:250,],xlim=c(-0.2,0.2),ylim=c(-0.2,0.2),col=\"blue\",type=\"p\")\n",
    "points(thin_coord[251:317,],xlim=c(-0.2,0.2),ylim=c(-0.2,0.2),type=\"p\")"
   ]
  },
  {
   "cell_type": "code",
   "execution_count": null,
   "metadata": {},
   "outputs": [],
   "source": [
    "plot(chr21_coord[1:165,],xlim=c(-0.2,0.2),ylim=c(-0.2,0.2),col=\"red\")\n",
    "points(chr21_coord[166:250,],xlim=c(-0.2,0.2),ylim=c(-0.2,0.2),col=\"blue\",type=\"p\")\n",
    "points(chr21_coord[251:317,],xlim=c(-0.2,0.2),ylim=c(-0.2,0.2),type=\"p\")"
   ]
  },
  {
   "cell_type": "code",
   "execution_count": null,
   "metadata": {},
   "outputs": [],
   "source": [
    "plot(all_coord[1:165,],xlim=c(-0.2,0.2),ylim=c(-0.2,0.2),col=\"red\")\n",
    "points(all_coord[166:250,],xlim=c(-0.2,0.2),ylim=c(-0.2,0.2),col=\"blue\",type=\"p\")\n",
    "points(all_coord[251:317,],xlim=c(-0.2,0.2),ylim=c(-0.2,0.2),type=\"p\")"
   ]
  },
  {
   "cell_type": "code",
   "execution_count": null,
   "metadata": {},
   "outputs": [],
   "source": [
    "#what if we didn't use SNPs but rarer variation?\n",
    "#only higher frequency?\n",
    "#what if we used coding SNPs?\n",
    "#what about other types of variation?\n",
    "#what if the population were Italians, French and English? Would we need more or fewer markers?\n",
    "#what about Mexicans and African Americans? would they cluster? \n",
    "#why is this a problem in mapping? What are the solutions?\n",
    "\n",
    "#grouping as a predictor:\n",
    "pred=cbind(c(rep(1,165),rep(0,(416-165))), c(rep(0,165),rep(1,84),rep(0,(416-249))) ,c(rep(0,249),rep(1,(416-249))))\n",
    "\n",
    "library(vegan)\n",
    "adonis(thin~pred)\n",
    "adonis(chr21~pred)\n",
    "adonis(all~pred)\n",
    "\n",
    "#random grouping\n",
    "p=rep(c(0,1),208)\n",
    "adonis(all~p)\n",
    "\n",
    "#why do we get lots more variation explained?"
   ]
  },
  {
   "cell_type": "markdown",
   "metadata": {},
   "source": [
    "### LEPTOSPIROSIS:\n",
    "\n",
    "###### introduce data\n",
    "\n",
    "###### clean data:\n",
    "`plink --noweb --bfile ~/biom262_2019/Module_8/Data/lepto_unrel --maf 0.05 --geno 0.1 --make-bed --out lepto_clean`  \n",
    "\n",
    "###### inspect data\n",
    "\n",
    "###### prune:\n",
    "`plink --bfile lepto_clean --indep-pairwise 50 5 0.2 --noweb`  \n",
    "`plink --bfile lepto_clean --extract plink.prune.in --make-bed --out lepto_pruned --noweb`  \n",
    "\n",
    "###### run unsupervised admixture with 2,3,4,5 clusters\n",
    "`admixture lepto_pruned.bed 2`  \n",
    "`admixture lepto_pruned.bed 3`  \n",
    "`admixture lepto_pruned.bed 4`  \n",
    "\n",
    "###### crossvalidation to select best K in bash:\n",
    "`for K in 1 2 3; do admixture --cv lepto_pruned.bed $K | tee log${K}.out; done`\n",
    "\n",
    "CV error (K=1): 0.56962\n",
    "\n",
    "CV error (K=2): 0.56176\n",
    "\n",
    "CV error (K=3): 0.56551\n"
   ]
  },
  {
   "cell_type": "code",
   "execution_count": null,
   "metadata": {},
   "outputs": [],
   "source": [
    "a=read.table(\"lepto_pruned.2.P\",F)\n",
    "barplot(t(a[order(a[,1]),]),col=c(\"red\",\"green\"),border=NA)"
   ]
  },
  {
   "cell_type": "markdown",
   "metadata": {},
   "source": [
    "###### run association  \n",
    "`plink --bfile lepto_clean --noweb --assoc --adjust --qq-plot --out lepto_clean`  \n",
    "\n",
    "##### why do we need to remove unrelateds?"
   ]
  },
  {
   "cell_type": "code",
   "execution_count": null,
   "metadata": {},
   "outputs": [],
   "source": [
    "#make qq plot in R:\n",
    "data <- read.table(\"lepto_clean.assoc.adjusted\",T)\n",
    "#png(\"qqplot_mds.png\")\n",
    "plot(-log10(data$QQ),-log10(data$UNADJ),xlab=\"expected –logP values\",ylab=\"observed –logP values\")\n",
    "abline(a = 0, b = 1)\n",
    "#dev.off()"
   ]
  },
  {
   "cell_type": "markdown",
   "metadata": {},
   "source": [
    "###### inspect plot\n",
    "###### explain inflation, ask for possible causes\n",
    "\n",
    "## run a linear model with MDS as covariates:\n",
    "\n",
    "`plink --bfile lepto_pruned --noweb --cluster --mds-plot 10 --out cov`  \n",
    "\n",
    "## errors starting from here:\n"
   ]
  },
  {
   "cell_type": "markdown",
   "metadata": {},
   "source": [
    "`plink --bfile lepto_pruned --noweb --logistic genotypic --covar cov.mds --parameters 1,2,4-13 --adjust --qq-plot --out lepto_pruned_mds`\n",
    "`plink --bfile lepto_clean --noweb --logistic genotypic --covar cov.mds --parameters 1,2,4-13 --adjust --qq-plot --out lepto_clean_mds`"
   ]
  },
  {
   "cell_type": "code",
   "execution_count": null,
   "metadata": {},
   "outputs": [],
   "source": [
    "# cannot run\n",
    "\n",
    "#make qq plot in R:\n",
    "data <- read.table(\"lepto_clean_mds.assoc.logistic.adjusted\",T)\n",
    "#png(\"qqplot_mds.png\")\n",
    "plot(-log10(data$QQ),-log10(data$UNADJ),xlab=\"expected –logP values\",ylab=\"observed –logP values\")\n",
    "abline(a = 0, b = 1)\n",
    "#dev.off()"
   ]
  },
  {
   "cell_type": "code",
   "execution_count": null,
   "metadata": {},
   "outputs": [],
   "source": []
  }
 ],
 "metadata": {
  "kernelspec": {
   "display_name": "R",
   "language": "R",
   "name": "ir"
  },
  "language_info": {
   "codemirror_mode": "r",
   "file_extension": ".r",
   "mimetype": "text/x-r-source",
   "name": "R",
   "pygments_lexer": "r",
   "version": "3.5.1"
  }
 },
 "nbformat": 4,
 "nbformat_minor": 2
}
