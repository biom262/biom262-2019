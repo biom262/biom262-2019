{
 "cells": [
  {
   "cell_type": "markdown",
   "metadata": {},
   "source": [
    "## How to use Linux screens"
   ]
  },
  {
   "cell_type": "markdown",
   "metadata": {},
   "source": [
    "Screens are a very useful feature of Linux, particularly for long-running processes on a remote machine. Screens keep running even if the SSH session ends, and multiple screens can be run at once. "
   ]
  },
  {
   "cell_type": "markdown",
   "metadata": {},
   "source": [
    "In order to start linux screen, simply type screen on the command line"
   ]
  },
  {
   "cell_type": "code",
   "execution_count": null,
   "metadata": {},
   "outputs": [],
   "source": [
    "$ screen"
   ]
  },
  {
   "cell_type": "markdown",
   "metadata": {},
   "source": [
    "When using multiple screens, it can be useful to name them for ease in reopening screens later on. To do this, use the -S flag"
   ]
  },
  {
   "cell_type": "code",
   "execution_count": null,
   "metadata": {},
   "outputs": [],
   "source": [
    "$ screen -S screen_name"
   ]
  },
  {
   "cell_type": "markdown",
   "metadata": {},
   "source": [
    "Screen has parameters that can be used while in the screen environment. In order to display possible commands, type together \"Ctrl + a\", then \"?\"\n",
    "\n",
    "To detach from the screen, or to exit but keep the screen running in the background, use \"Ctrl + a\", then \"d\".\n",
    "\n",
    "To resume this screen again, from the command line type:"
   ]
  },
  {
   "cell_type": "code",
   "execution_count": null,
   "metadata": {},
   "outputs": [],
   "source": [
    "$ screen -r"
   ]
  },
  {
   "cell_type": "markdown",
   "metadata": {},
   "source": [
    "If multiple screens are running, a list of available screens to be resumed will be shown. "
   ]
  },
  {
   "cell_type": "code",
   "execution_count": null,
   "metadata": {},
   "outputs": [],
   "source": [
    "# Output\n",
    "$ screen -r\n",
    "There are several suitable screens on:\n",
    "        61395.pts-674.tscc-login1       (Detached)\n",
    "        49742.pts-674.tscc-login1       (Detached)\n",
    "Type \"screen [-d] -r [pid.]tty.host\" to resume one of them."
   ]
  },
  {
   "cell_type": "markdown",
   "metadata": {},
   "source": [
    "To resume a screen, add the session ID after the -r flag:"
   ]
  },
  {
   "cell_type": "code",
   "execution_count": null,
   "metadata": {},
   "outputs": [],
   "source": [
    "$ screen -r 61395.pts-674.tscc-login1"
   ]
  },
  {
   "cell_type": "markdown",
   "metadata": {},
   "source": [
    "To get a list of sessions, in the command line type: "
   ]
  },
  {
   "cell_type": "code",
   "execution_count": null,
   "metadata": {},
   "outputs": [],
   "source": [
    "$ screen -ls"
   ]
  },
  {
   "cell_type": "markdown",
   "metadata": {},
   "source": [
    "To completely shutdown a screen, within the screen type: \"Ctrl + a\", then \":quit\""
   ]
  },
  {
   "cell_type": "markdown",
   "metadata": {},
   "source": [
    "## Helpful tip:"
   ]
  },
  {
   "cell_type": "markdown",
   "metadata": {},
   "source": [
    "If you consistently use jupyter notebook, open the notebook in a screen so your kernels will keep running even when you end your SSH session."
   ]
  },
  {
   "cell_type": "code",
   "execution_count": null,
   "metadata": {},
   "outputs": [],
   "source": [
    "$ screen\n",
    "$ jupyter notebook --no-browser --port=1234"
   ]
  }
 ],
 "metadata": {
  "kernelspec": {
   "display_name": "Python 2",
   "language": "python",
   "name": "python2"
  },
  "language_info": {
   "codemirror_mode": {
    "name": "ipython",
    "version": 2
   },
   "file_extension": ".py",
   "mimetype": "text/x-python",
   "name": "python",
   "nbconvert_exporter": "python",
   "pygments_lexer": "ipython2",
   "version": "2.7.15"
  }
 },
 "nbformat": 4,
 "nbformat_minor": 2
}
